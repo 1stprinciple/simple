{
 "cells": [
  {
   "cell_type": "code",
   "execution_count": 56,
   "metadata": {},
   "outputs": [],
   "source": [
    "import numpy as np\n",
    "import random"
   ]
  },
  {
   "cell_type": "markdown",
   "metadata": {},
   "source": [
    "Probably the simplest implementation of HyperLogLog.\n",
    "\n",
    "Open from colab: https://colab.research.google.com/github/1stprinciple/simple/blob/master/algorithms/simple_hll.ipynb\n",
    "\n",
    "Reference:\n",
    "https://static.googleusercontent.com/media/research.google.com/en//pubs/archive/40671.pdf\n"
   ]
  },
  {
   "cell_type": "code",
   "execution_count": null,
   "metadata": {},
   "outputs": [],
   "source": []
  },
  {
   "cell_type": "code",
   "execution_count": 57,
   "metadata": {},
   "outputs": [],
   "source": [
    "def compute_alpha(m):\n",
    "    assert m > 0\n",
    "    assert m&(m-1) == 0\n",
    "    if m == 16:\n",
    "        return 0.673\n",
    "    elif m == 32:\n",
    "        return 0.697\n",
    "    elif m == 64: \n",
    "        return 0.709\n",
    "    else:\n",
    "        return 0.7213/(1 + 1.079/m)"
   ]
  },
  {
   "cell_type": "code",
   "execution_count": 58,
   "metadata": {},
   "outputs": [],
   "source": [
    "def count_leading_zeros(s):\n",
    "    result = 0\n",
    "    for c in s:\n",
    "        if c != '0':\n",
    "            return result\n",
    "        else:\n",
    "            result = result + 1\n",
    "    return result"
   ]
  },
  {
   "cell_type": "code",
   "execution_count": 59,
   "metadata": {},
   "outputs": [],
   "source": [
    "def simple_hll(logs, p):\n",
    "    assert p <= 16\n",
    "    \n",
    "    m = 1 << p\n",
    "    alpha = compute_alpha(m)\n",
    "    buckets = np.zeros(m)\n",
    "    for log in logs:\n",
    "        hash_code = hash(str(log)) % (1 << 32)\n",
    "        hash_code_str = \"{:032b}\".format(hash_code)\n",
    "        leading_bits = hash_code_str[:p]\n",
    "        trailing_bits = hash_code_str[p:]\n",
    "        target_bucket_index = int(leading_bits, 2)\n",
    "        buckets[target_bucket_index] = max(buckets[target_bucket_index], count_leading_zeros(trailing_bits)+1)\n",
    "    \n",
    "    estimated = alpha*m*m / np.sum(np.vectorize(lambda x: 0.5**x)(buckets))\n",
    "    if estimated < 2.5*m:\n",
    "        return m * np.log(m / np.count_nonzero(buckets == 0))\n",
    "    else:\n",
    "        return estimated"
   ]
  },
  {
   "cell_type": "code",
   "execution_count": 60,
   "metadata": {},
   "outputs": [],
   "source": [
    "## Initialize test data"
   ]
  },
  {
   "cell_type": "code",
   "execution_count": 61,
   "metadata": {},
   "outputs": [],
   "source": [
    "max_element = 10000000"
   ]
  },
  {
   "cell_type": "code",
   "execution_count": 62,
   "metadata": {},
   "outputs": [],
   "source": [
    "def generateTestLogs(cardinality, num_logs):\n",
    "    samples = np.arange(1, max_element)\n",
    "    np.random.shuffle(samples)\n",
    "    samples = samples[:cardinality]\n",
    "    if num_logs > cardinality:\n",
    "        other_samples_indices = np.random.randint(cardinality, size=num_logs-cardinality)\n",
    "        other_samples = np.vectorize(lambda i: samples[i])(other_samples_indices)\n",
    "        samples = np.concatenate((samples, other_samples))\n",
    "    np.random.shuffle(samples)\n",
    "    return samples"
   ]
  },
  {
   "cell_type": "code",
   "execution_count": null,
   "metadata": {},
   "outputs": [],
   "source": []
  },
  {
   "cell_type": "code",
   "execution_count": 63,
   "metadata": {},
   "outputs": [],
   "source": [
    "logs = generateTestLogs(2000000, 2500000)"
   ]
  },
  {
   "cell_type": "code",
   "execution_count": null,
   "metadata": {},
   "outputs": [],
   "source": []
  },
  {
   "cell_type": "code",
   "execution_count": 64,
   "metadata": {},
   "outputs": [
    {
     "data": {
      "text/plain": [
       "1997717.3286524448"
      ]
     },
     "execution_count": 64,
     "metadata": {},
     "output_type": "execute_result"
    }
   ],
   "source": [
    "simple_hll(logs, 16)"
   ]
  },
  {
   "cell_type": "code",
   "execution_count": null,
   "metadata": {},
   "outputs": [],
   "source": []
  }
 ],
 "metadata": {
  "kernelspec": {
   "display_name": "Python 3",
   "language": "python",
   "name": "python3"
  },
  "language_info": {
   "codemirror_mode": {
    "name": "ipython",
    "version": 3
   },
   "file_extension": ".py",
   "mimetype": "text/x-python",
   "name": "python",
   "nbconvert_exporter": "python",
   "pygments_lexer": "ipython3",
   "version": "3.6.10"
  }
 },
 "nbformat": 4,
 "nbformat_minor": 4
}
